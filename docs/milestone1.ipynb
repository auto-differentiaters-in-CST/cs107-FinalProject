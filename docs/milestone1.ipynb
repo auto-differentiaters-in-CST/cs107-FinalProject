{
 "cells": [
  {
   "cell_type": "markdown",
   "metadata": {
    "id": "B2T2PWyV-EUg"
   },
   "source": [
    "# Milestone1 Document"
   ]
  },
  {
   "cell_type": "markdown",
   "metadata": {},
   "source": [
    "## Feedback\n",
    "\n",
    "Introduction: A nice introduction! \n",
    "\n",
    "Background -0.5: It would be hard for users to understand automatic differentiation, computational graph, and evaluation trace if you don't give the corresponding illustrations in the Background section \n",
    "\n",
    "**Revision: provided a concrete example of evaluation trace and computational graph**\n",
    "\n",
    "How to use -0.5: didn't show how the users can get the package from online. Is AutodiffCST the name of a python file or the package? Please give different names to avoid confusion. \n",
    "\n",
    "Implementation: Using a tree as the core data structure sounds new. It would be better if you could explain it with more details."
   ]
  },
  {
   "cell_type": "markdown",
   "metadata": {
    "id": "XZ8-Cv7u-ZVK"
   },
   "source": [
    "## Section 1: Introduction\n",
    "This package autodiffCST implements automatic differentiation. It can be used to automatically differentiate functions via forward mode and reverse mode, depending on the user's choice. It also provides an option of performing second order differentiation.\n",
    "\n",
    "Differentiation, namely, the process of finding the derivatives of functions, is very prevalent in various areas of science and engineering. It can often be used to find the extrema of functions with single or multiple variables. With the advance of technology, more complicated functions and larger dataset are developed. The difficulty of performing differentiation has greatly increased and we are more dependent on computers to take derivates. Nowadays, we have three major ways of performing differentiation: symbolic, numerical and automatic (algorithmic) differentiation. We will focus on automatic differentiation for the rest of this document.\n",
    "\n"
   ]
  },
  {
   "cell_type": "markdown",
   "metadata": {
    "id": "wbBzU9L9-dUk"
   },
   "source": [
    "## Section 2: Background\n",
    "### 2.1 An Overview of Auto Differentiation\n",
    "Automatic differentiation (AD) uses algorithms to efficiently and accurately evaluating derivatives of numeric functions. It has the advantage of avoiding symbolic manipulation of functions while reaching an accuracy close to machine precision. Application of automatic differentiation includes but is not limited to astronomy, dynamic systems, numerical analysis research, optimization in finance and engineering.\n",
    "\n",
    "The idea behind AD is to break down a function into a sequence of elementary operations and functions that have easily attained derivatives, and then sequencially apply the chain rule to evaluate the derivatives of these operations to compute the derivative of the whole function.\n",
    "\n",
    "The two main methods of performing automatic differentiation are forward mode and reverse mode. Some other AD algorithms implement a combination of forward mode and reverse mode, but this package will implement them seperately.  \n",
    "\n",
    "To better understand automatic differentiation, it is uncessary to get familar with some key concepts that are used in the algorithms of AD. We will use the rest of this section to briefly introduce them.\n",
    "\n",
    "### 2.2 Elementary operations and functions\n",
    "The algorithm of automatic differentiation breaks down functions into elementary arithmetic operations and elementary functions. Elementary arithmetic operations include addition, subtraction, multiplication, division and raising power (we can also consider taking roots of a number as raising it to powers less than $1$). Elementary functions include exponential, logrithmatic, and trigonometry. All of these operations and functions mentioned here have derivates that are easy to compute, so we use them as elementary steps in the evaluation trace of AD.\n",
    "\n",
    "### 2.3 The Chain Rule\n",
    "The chain rule can be used to calculate the derivate of nested functions, such in the form of $u(v(t))$. For this function, the derivative of $u$ with respect to $t$ is $$\\dfrac{\\partial u}{\\partial t} = \\dfrac{\\partial u}{\\partial v}\\dfrac{\\partial v}{\\partial t}.$$\n",
    "\n",
    "A more general form of chain rule applies when a function $h$ has several arguments, or when its argument is a vector. Suppose we have $h = h(y(t))$ where  $y \\in R^n$ and $t \\in R^m $. Here, $h$ is the combination of $n$ functions, each of which has $m$ variables. Using the chain rule, the derivative of $h$ with respect to $t$, now called the gradient of $h$, is\n",
    "\n",
    " $$    \\nabla_{t}h = \\sum_{i=1}^{n}{\\frac{\\partial h}{\\partial y_{i}}\\nabla y_{i}\\left(t\\right)}.$$\n",
    "\n",
    "The chain rule enables us to break down complicated and nested functions into layers and operations. Our automatic differentiation algrithm sequencially sues chain rule to compute the derivative of funtions. \n",
    "\n",
    "### 2.4 Evaluation Trace and Computational Graph\n",
    "These two concepts are the core of our automatic differentiation algorithm. Since they are so important and can be created at the same time, creating them would be the first thing to do when a function is inputted into the algorithm.\n",
    "\n",
    "The evaluation trace tracks each layer of operations while evaluate the input function and its derivative. At each step the evaluation trace holds the traces, elementary operations, numerical values, elementary derivatives and partial derivatives. \n",
    "\n",
    "The computational graph is a graphical visualization of the evaluation trace. It holds the traces and elementary operations of the steps, connecting them via arrows pointing from input to output for each step. The computational graph helps us to better understand the structure of the function and its evaluation trace. Forward mode performs the operations from the start to the end of the graph or evaluation trace. Reverse mode performs the operations backwards, while applying the chain rule at each time determining the derivate of the trace.\n",
    "\n"
   ]
  },
  {
   "cell_type": "markdown",
   "metadata": {},
   "source": [
    "Evaluation trace:\n",
    "\n",
    "|Trace|Elementary Function| &nbsp; &nbsp; &nbsp; &nbsp;&nbsp; &nbsp; &nbsp; &nbsp; &nbsp; &nbsp;Current Value &nbsp; &nbsp; &nbsp; &nbsp;&nbsp; &nbsp; &nbsp; &nbsp; &nbsp; &nbsp;|Elementary Function Derivative| &nbsp; &nbsp; &nbsp; &nbsp;&nbsp; &nbsp; &nbsp; &nbsp; &nbsp; &nbsp;$\\nabla_x$ &nbsp; &nbsp; &nbsp; &nbsp;&nbsp;&nbsp; &nbsp; &nbsp; &nbsp;|&nbsp; &nbsp; &nbsp;&nbsp; &nbsp; &nbsp;&nbsp; &nbsp; &nbsp; &nbsp;$\\nabla_y$ &nbsp; &nbsp; &nbsp; &nbsp;&nbsp; &nbsp;|\n",
    "| :---:   | :-----------: | :-------:  | :-------------:       | :----------: | :-----------: |\n",
    "| $x_{1}$ | $x_{1}$       | $\\frac{\\pi}{2}$   | $\\dot{x}_{1}$           | $1$         | $0$          |\n",
    "| $y_{1}$ | $y_{1}$       | $\\frac{\\pi}{3}$   | $\\dot{y}_{1}$           | $0$         | $1$          |\n",
    "| $v_{1}$ | $sin(x_{1})$  | $1$    | $cos(x_{1})\\dot{x}_{1}$ | $0$         | $0$          |\n",
    "| $v_{2}$ | $cos(y_{1})$  | $0.5$  | $-sin(y_{1})\\dot{y}_{1}$| $0$         | $-0.866$         |\n",
    "| $v_{3}$ | $v_{1}-v_{2}$ | $0.5$ | $\\dot{v}_{1}-\\dot{v}_{2}$| $0$        | $0.866$          |\n",
    "| $v_{4}$ | $v_{3}^2$     | $0.25$ | $2v_{3}\\dot{v}_{3}$     | $0$         | $0.866$          |\n",
    "| $v_{5}$ | $-v_{4}$      | $-0.25$| $-\\dot{v}_{4}$           | $0$         | $-0.866$         |\n",
    "| $v_{6}$ | $exp(v_{5})$  | $0.779$| $exp(v_{5})\\dot{v}_{5}$ | $0$         | $-0.6746$        |\n",
    "| $f$     | $v_{6}$       | $0.779$| $\\dot{v}_{6}$           | $0$         | $-0.6746$        |\n",
    "\n",
    "Computational graph:"
   ]
  },
  {
   "cell_type": "markdown",
   "metadata": {},
   "source": [
    "![2.4 Graph](C_graph_example.jpg \"Computational Graph\")"
   ]
  },
  {
   "cell_type": "markdown",
   "metadata": {
    "id": "2QbWtCrE75wE"
   },
   "source": [
    "## Section 3: How to Use AutodiffCST\n",
    "Users should import the package or the class autodiffCST, and simply initiate the AD object by giving the function (or a collection of functions in a list form, representing a matrix of functions) they wish to differentiate. They will then be able to give a point and a direction and then access the derivative(s), along with some other supplementary features as  in the code demo provided below.\n"
   ]
  },
  {
   "cell_type": "code",
   "execution_count": null,
   "metadata": {
    "id": "8cfjiepW8Hxs"
   },
   "outputs": [],
   "source": [
    "# import modules\n",
    "import numpy as np\n",
    "from AutodiffCST import AutodiffCST as adcst\n",
    "\n",
    "# user's function, point and direction for differentiation\n",
    "inputfunction = ... # should be a list of functions, can include one or more\n",
    "point = ...     # the point at which we want the derivatives\n",
    "direction = ...   # the direction p in our Jp\n",
    "\n",
    "# call the class and initialize AutodiffCST object\n",
    "AD = adcst(inputfunction)\n",
    "\n",
    "\n",
    "\"\"\"\n",
    "The following is the core.\n",
    "It will get a list of values, which are the derivatives at the given point of the input functions, respectively.\n",
    "- AD_type specifies the mode, the default value will be True, representing the forward mode, and False will use the reverse mode.\n",
    "- tracetable gives the option of printing out a complete trace table for the computation. \n",
    "  If we say True, then we will get the table. The default setting is False as the table might be very long.\n",
    "\"\"\"\n",
    "AD.diff(direction, point, AD_type=True, tracetable=False)\n",
    "\n",
    "\n",
    "# We could also see the graph of i-th function in our input.\n",
    "# If we don't specify, then all graphs will be returned\n",
    "AD.graph()[i]\n",
    "\n",
    "\n",
    "\"\"\"\n",
    "An option to add a new function to the input function list.\n",
    "For example, suppose we originally have [xy,y-3].\n",
    "We can use this function to include a third component and thus have a new function, say [xy,y-3,x-2]\n",
    "\"\"\"\n",
    "AD.add_function(new_function)\n",
    "# Then we should do AD.diff again to obtain derivatives for the updated function matrix\n",
    "\n",
    "# get the value of the function at the point\n",
    "AD.eval(point)\n",
    "\n",
    "# These are the most important features for our basic AD. Might add more later ..."
   ]
  },
  {
   "cell_type": "markdown",
   "metadata": {
    "id": "tTltiL5H-g-4"
   },
   "source": [
    "## Section 4: Software Organization\n",
    "The home directory of our software package would be structured as follows.\n",
    "\n",
    "- LICENSE\n",
    "- README.md\n",
    "- doc/\n",
    " * quickstart_tutotial.md\n",
    " * model_documentation.md\n",
    " * testing_guidelines.md\n",
    " * concepts_explanation.md\n",
    " * references.md\n",
    "- setup.py\n",
    "- src/\n",
    " * \\_\\_init\\_\\_.py\n",
    " * Tree.py\n",
    " * AutodiffCST.py\n",
    " * Forward.py\n",
    " * Reverse.py\n",
    " * Extension.py\n",
    "\n",
    "- tests/\n",
    " * test_core.py\n",
    " * test_extension.py\n",
    "\n",
    "- TravisCI.yml\n",
    "- CodeCov.yml\n",
    "\n",
    "\n",
    "Specificly speaking, the README file would contain a general package description and the necessary information for users to navigate in the subdirectories. Besides, we would place our documentation, testing guidelines, a simple tutorial and relative references in the doc directory. Moreover, to package our model with PyPI, we need to include setup.py and a src directory, where stores the source code about our model. Furthermore, we would put a collection of test cases in tests directory. Last but not least, we would include TravisCI.yml and CodeCov.yml in our home directory for integrated test.\n",
    "\n",
    "In this package, we plan to use the following public modules. \n",
    "\n",
    "- Modules for mathmatical calculation:\n",
    "  * Numpy: we would use it for matrix operations, and basic math functions and values, such as sin, cos, \\pi, e, etc. \n",
    "\n",
    "- Modules for testing:\n",
    "  * pydoc\n",
    "  * doctest \n",
    "  * Pytest\n",
    "\n",
    "- Other modules:\n",
    "  * sys\n",
    "  * setuptools: we would use is for publishing our model with PyPI. \n",
    " \n",
    "To distribute our package, we would use PyPI so that users could easily install the package with *pip install*.\n",
    "\n",
    "To better organize our software, we plan to use PyScaffold and Sphinx. The former could help us setting up the project while the latter would polish our documentation. \n",
    " "
   ]
  },
  {
   "cell_type": "markdown",
   "metadata": {
    "id": "RPdZguY4-md3"
   },
   "source": [
    "## Section 5: Implementation\n",
    "\n",
    "Discuss how you plan on implementing the forward mode of automatic differentiation.\n",
    "- What are the core data structures?\n",
    "\n",
    "  We would create a tree for each function to represent the graph and then follow the graph to perform calculations. \n",
    "- What classes will you implement?\n",
    "  1. Forward: calculate derivatives by forward mode.\n",
    "  1. Reverse: calculate derivatives by reverse mode.\n",
    "  1. AutodiffCST: main class, accept input functions and return derivatives at a specific point and direction. It will also return second derivatives, graphs, and trace tables, as users need. \n",
    "  1. Tree: define basic data structure that will be used in AutodiffCST class. \n",
    "  1. Extension: apply our software to implement a useful extension or application.\n",
    " \n",
    "- What method and name attributes will your classes have?\n",
    "  1. Forward: \n",
    "\n",
    "    - Name attributes: trees representing input functions, point (at which the derivative will be calculated), direction (vector p). \n",
    "    - Method: diff(): accept all name attributes as parameters and calculate derivatives by forward mode. \n",
    "  1. Reverse: \n",
    "\n",
    "    - Name attributes: trees representing input functions, point (at which the derivative will be calculated), direction (vector p). \n",
    "    - Method: diff(): accept all name attributes as parameters and calculate derivatives by reverse mode. \n",
    "  1. AutodiffCST: \n",
    "\n",
    "    - Name attributes: input functions\n",
    "    - Method: \n",
    "      - to_tree(input function): factor a input function to a series of basic operations/functions and generate a tree to represent the process.\n",
    "      - diff(direction, point, AD_type, tracetable=True/False): calculate derivatives of input functions given specific direction and point. Users could indicate calculation mode by setting AD_type, and choose whether to return tracetable by setting True/False. \n",
    "      - graph(): return graph(s) of input function(s).\n",
    "      - add_function(function): users can append a new function to the original list of input functions. \n",
    "  1. Tree: \n",
    "    - Name attributes: basic elements of trees. \n",
    "    - Method: get_children(), get_parent(), iterator(), etc.\n",
    "  1. Extension: To be determined.\n",
    " \n",
    "- What external dependencies will you rely on?\n",
    "\n",
    "  Numpy, Math, etc. \n",
    "- How will you deal with elementary functions like sin, sqrt, log, and exp (and all the others)\n",
    "\n",
    "  We would allow users to enter functions that can be recognized by Python, factor a input function to a series of basic operations/functions (such as sin, sqrt, log, and exp) and use if-statements to check functions and return their symbolic derivatives.\n",
    "- Be sure to consider a variety of use cases. For example, don't limit your design to scalar functions of scalar values. Make sure you can handle the situations of vector functions of vectors and scalar functions of vectors. Don't forget that people will want to use your library in algorithms like Newton's method (among others).\n",
    "\n",
    "  We allow users to enter a list of functions, which can take several variables. In addition, we take functions as input when initializing a AD object, which allow us to save the graphs in memory and calculate derivatives quickly without re-processing the functions. \n"
   ]
  },
  {
   "cell_type": "code",
   "execution_count": null,
   "metadata": {
    "id": "Hhbq-6cYVQ5A"
   },
   "outputs": [],
   "source": []
  }
 ],
 "metadata": {
  "colab": {
   "collapsed_sections": [],
   "name": "milestone1.ipynb",
   "provenance": []
  },
  "kernelspec": {
   "display_name": "Python 3",
   "language": "python",
   "name": "python3"
  },
  "language_info": {
   "codemirror_mode": {
    "name": "ipython",
    "version": 3
   },
   "file_extension": ".py",
   "mimetype": "text/x-python",
   "name": "python",
   "nbconvert_exporter": "python",
   "pygments_lexer": "ipython3",
   "version": "3.7.4"
  }
 },
 "nbformat": 4,
 "nbformat_minor": 1
}
